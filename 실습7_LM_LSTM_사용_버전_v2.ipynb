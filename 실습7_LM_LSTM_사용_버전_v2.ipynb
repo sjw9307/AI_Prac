{
  "cells": [
    {
      "cell_type": "markdown",
      "metadata": {
        "id": "view-in-github",
        "colab_type": "text"
      },
      "source": [
        "<a href=\"https://colab.research.google.com/github/sjw9307/AI_Practice/blob/mater/%E1%84%89%E1%85%B5%E1%86%AF%E1%84%89%E1%85%B3%E1%86%B87_LM_LSTM_%E1%84%89%E1%85%A1%E1%84%8B%E1%85%AD%E1%86%BC_%E1%84%87%E1%85%A5%E1%84%8C%E1%85%A5%E1%86%AB_v2.ipynb\" target=\"_parent\"><img src=\"https://colab.research.google.com/assets/colab-badge.svg\" alt=\"Open In Colab\"/></a>"
      ]
    },
    {
      "cell_type": "markdown",
      "metadata": {
        "id": "nMrC25Ebsgpp"
      },
      "source": [
        "> 이 문서의 폰트크기는 브라우저 인쇄시 인쇄 배율 80%로 최적화 되어 있음"
      ]
    },
    {
      "cell_type": "markdown",
      "metadata": {
        "id": "S1tUasDDsgpz"
      },
      "source": [
        "## 이 부분은 강의 내용과 관계 없지만 여기서부터 실행 시키세요.(Time stamp 프로그램)"
      ]
    },
    {
      "cell_type": "code",
      "execution_count": 1,
      "metadata": {
        "id": "_dnAdMCKsgp0"
      },
      "outputs": [],
      "source": [
        "import time\n",
        "\n",
        "a=[]\n",
        "\n",
        "def timestamp():\n",
        "    now = time.time()\n",
        "    now = time.localtime(now)\n",
        "    a.append(now)\n",
        "    return\n",
        "\n",
        "timestamp()"
      ]
    },
    {
      "cell_type": "code",
      "execution_count": 3,
      "metadata": {
        "id": "D48nzmNtsgp1"
      },
      "outputs": [],
      "source": [
        "# multi line 출력을 위한 셀 -- 필요시 주석해제 후 이 셀을 실행시키기 바람\n",
        "from IPython.core.interactiveshell import InteractiveShell\n",
        "InteractiveShell.ast_node_interactivity = \"all\""
      ]
    },
    {
      "cell_type": "markdown",
      "metadata": {
        "id": "yiUvDXXdsgp1"
      },
      "source": [
        "#  Language Model  : nn.LSTM 사용 버전\n",
        "\n",
        "> 1. 훈련데이터 전처리하기\n",
        "> 2. 모델 제작\n",
        "> 3. 모델 훈련\n",
        "     \n",
        "\n",
        "# 1. 학습데이터 제작"
      ]
    },
    {
      "cell_type": "code",
      "execution_count": 4,
      "metadata": {
        "id": "XY0b95n_sgp1"
      },
      "outputs": [],
      "source": [
        "import torch\n",
        "import torch.nn as nn\n",
        "import torch.optim as optim\n",
        "\n",
        "import numpy as np\n",
        "import matplotlib.pyplot as plt"
      ]
    },
    {
      "cell_type": "markdown",
      "metadata": {
        "id": "lV3cZryMsgp1"
      },
      "source": [
        "## (1) 원시 코퍼스\n",
        "- 여기서는 단순히 한개의 문장을 포함한 문자열을 원시 코퍼스로 활용"
      ]
    },
    {
      "cell_type": "code",
      "execution_count": 5,
      "metadata": {
        "id": "C-JTr-tvsgp2"
      },
      "outputs": [],
      "source": [
        "corpus = \"Honest is the best policy for success\""
      ]
    },
    {
      "cell_type": "markdown",
      "metadata": {
        "id": "7IsrmWKysgp2"
      },
      "source": [
        "## (2) 토큰화 코퍼스 제작"
      ]
    },
    {
      "cell_type": "code",
      "execution_count": 6,
      "metadata": {
        "colab": {
          "base_uri": "https://localhost:8080/"
        },
        "id": "W8DKD4NKsgp2",
        "outputId": "66ada519-fff5-48bc-ec8d-4b01594d403f"
      },
      "outputs": [
        {
          "output_type": "execute_result",
          "data": {
            "text/plain": [
              "['Honest', 'is', 'the', 'best', 'policy', 'for', 'success']"
            ]
          },
          "metadata": {},
          "execution_count": 6
        }
      ],
      "source": [
        "corpus_tokenized = corpus.split()\n",
        "corpus_tokenized"
      ]
    },
    {
      "cell_type": "markdown",
      "metadata": {
        "id": "jV8oFJ1Nsgp2"
      },
      "source": [
        "## (2) 어휘집 제작"
      ]
    },
    {
      "cell_type": "markdown",
      "metadata": {
        "id": "PWb_31jysgp2"
      },
      "source": [
        "### word2id 제작"
      ]
    },
    {
      "cell_type": "code",
      "execution_count": 7,
      "metadata": {
        "id": "S1y5QF2gsgp3"
      },
      "outputs": [],
      "source": [
        "word2id = {tkn: i for i, tkn in enumerate(corpus_tokenized, 1)}  # 단어에 고유한 정수 부여\n",
        "word2id['<unk>'] = 0"
      ]
    },
    {
      "cell_type": "code",
      "execution_count": 8,
      "metadata": {
        "colab": {
          "base_uri": "https://localhost:8080/"
        },
        "id": "M3Pklb9psgp3",
        "outputId": "4b4370e2-2063-462f-e6a9-4009284d9277"
      },
      "outputs": [
        {
          "output_type": "stream",
          "name": "stdout",
          "text": [
            "8\n",
            "{'Honest': 1, 'is': 2, 'the': 3, 'best': 4, 'policy': 5, 'for': 6, 'success': 7, '<unk>': 0}\n",
            "5\n"
          ]
        }
      ],
      "source": [
        "print(len(word2id))\n",
        "print(word2id)\n",
        "print(word2id['policy'])"
      ]
    },
    {
      "cell_type": "markdown",
      "metadata": {
        "id": "BvB4w5Rfsgp3"
      },
      "source": [
        "### id2word 제작"
      ]
    },
    {
      "cell_type": "code",
      "execution_count": 9,
      "metadata": {
        "colab": {
          "base_uri": "https://localhost:8080/"
        },
        "id": "ptEkC-Vasgp3",
        "outputId": "6af91273-7a29-480f-f477-cda6f41b7fc7"
      },
      "outputs": [
        {
          "output_type": "stream",
          "name": "stdout",
          "text": [
            "{1: 'Honest', 2: 'is', 3: 'the', 4: 'best', 5: 'policy', 6: 'for', 7: 'success', 0: '<unk>'}\n"
          ]
        }
      ],
      "source": [
        "# ID를 단어로 바꾸기 위한 사전\n",
        "id2word = {v: k for k, v in word2id.items()}\n",
        "print(id2word)"
      ]
    },
    {
      "cell_type": "code",
      "execution_count": 10,
      "metadata": {
        "colab": {
          "base_uri": "https://localhost:8080/"
        },
        "id": "nOLjE8Xxsgp3",
        "outputId": "948d8b9e-a071-4fe2-9542-03aafabfdbe1"
      },
      "outputs": [
        {
          "output_type": "stream",
          "name": "stdout",
          "text": [
            "8\n",
            "best\n"
          ]
        }
      ],
      "source": [
        "print(len(id2word))\n",
        "print(id2word[4])"
      ]
    },
    {
      "cell_type": "markdown",
      "metadata": {
        "id": "ceoCibYhsgp4"
      },
      "source": [
        "## (3)  코드화 코퍼스 제작"
      ]
    },
    {
      "cell_type": "code",
      "execution_count": 11,
      "metadata": {
        "id": "CQ2sI_Uusgp4"
      },
      "outputs": [],
      "source": [
        "corpus_encoded = [word2id[token] for token in corpus_tokenized] # 각 문자를 코드로 변환. "
      ]
    },
    {
      "cell_type": "code",
      "execution_count": 12,
      "metadata": {
        "colab": {
          "base_uri": "https://localhost:8080/"
        },
        "id": "M_PWGw9Nsgp4",
        "outputId": "9255225d-b241-40b1-807d-40ab31f47868"
      },
      "outputs": [
        {
          "output_type": "stream",
          "name": "stdout",
          "text": [
            "[1, 2, 3, 4, 5, 6, 7]\n"
          ]
        }
      ],
      "source": [
        "print(corpus_encoded)"
      ]
    },
    {
      "cell_type": "markdown",
      "metadata": {
        "id": "L70hlijAsgp4"
      },
      "source": [
        "## (4) 학습데이터 제작"
      ]
    },
    {
      "cell_type": "code",
      "execution_count": 13,
      "metadata": {
        "id": "Dj58TvTEsgp4"
      },
      "outputs": [],
      "source": [
        "input_seq, label_seq = corpus_encoded[:-1], corpus_encoded[1:] # 입력 시퀀스와 레이블 시퀀스를 분리\n",
        "\n",
        "X = torch.LongTensor(input_seq).unsqueeze(0) # 배치 차원 추가\n",
        "Y = torch.LongTensor(label_seq).unsqueeze(0) # 배치 차원 추가"
      ]
    },
    {
      "cell_type": "code",
      "execution_count": 14,
      "metadata": {
        "colab": {
          "base_uri": "https://localhost:8080/"
        },
        "id": "GKsyvNnKsgp4",
        "outputId": "2fadc433-295f-4759-ca41-03d7bf644c9f"
      },
      "outputs": [
        {
          "output_type": "stream",
          "name": "stdout",
          "text": [
            "tensor([[1, 2, 3, 4, 5, 6]])\n",
            "tensor([[2, 3, 4, 5, 6, 7]])\n"
          ]
        }
      ],
      "source": [
        "print(X)\n",
        "print(Y)"
      ]
    },
    {
      "cell_type": "markdown",
      "metadata": {
        "id": "z-rF2Uj_sgp5"
      },
      "source": [
        "# 2. 모델 제작"
      ]
    },
    {
      "cell_type": "code",
      "execution_count": 15,
      "metadata": {
        "id": "uHrorwJSsgp5"
      },
      "outputs": [],
      "source": [
        "class Net(nn.Module):\n",
        "    def __init__(self, vocab_size, input_size, hidden_size, batch_first=True):\n",
        "        super(Net, self).__init__()\n",
        "        self.embedding_layer = nn.Embedding(num_embeddings=vocab_size, #\n",
        "                                            embedding_dim=input_size)\n",
        "        self.rnn_layer = nn.LSTM(input_size, \n",
        "                                hidden_size, \n",
        "                                batch_first=batch_first)\n",
        "        self.linear = nn.Linear(hidden_size, vocab_size) \n",
        "        \n",
        "    def forward(self, x):\n",
        "        ## 1. 임베딩 층\n",
        "        # x : (배치 크기, 시퀀스 길이) => output : (배치 크기, 시퀀스 길이, 임베딩 차원)\n",
        "        x_emb = self.embedding_layer(x)\n",
        "        \n",
        "        ## 2. RNN 층\n",
        "        # output : (배치 크기, 시퀀스 길이, 은닉층 크기)\n",
        "        # hidden (1, 배치 크기, 은닉층 크기)\n",
        "        output, hidden = self.rnn_layer(x_emb)\n",
        "        \n",
        "        ## 3. 최종 출력층\n",
        "        # output : (배치 크기, 시퀀스 길이, 단어장 크기)\n",
        "        output = self.linear(output)\n",
        "        \n",
        "        # 4. 배치 차원 제거\n",
        "        # 반환값  : (배치 크기*시퀀스 길이, 단어장 크기)\n",
        "        return output.view(-1, output.size(2))"
      ]
    },
    {
      "cell_type": "code",
      "execution_count": 16,
      "metadata": {
        "id": "W2N88P-gsgp5"
      },
      "outputs": [],
      "source": [
        "# 하이퍼 파라미터\n",
        "VOCAB_SIZE = len(word2id)  # 단어장의 크기, 임베딩 층, 최종 출력층에 사용\n",
        "INPUT_SIZE = 5             # 임베딩 된 차원의 크기 및 RNN 층 입력 차원\n",
        "HIDDEN_SIZE= 20            # RNN의 은닉층 크기"
      ]
    },
    {
      "cell_type": "code",
      "execution_count": 17,
      "metadata": {
        "id": "ZY-d-rmQsgp6"
      },
      "outputs": [],
      "source": [
        "# 모델 생성\n",
        "model = Net(VOCAB_SIZE, INPUT_SIZE, HIDDEN_SIZE, batch_first=True)\n",
        "\n",
        "# 손실함수 정의\n",
        "loss_function = nn.CrossEntropyLoss() # 소프트맥스 함수 + CEE \n",
        "\n",
        "# 옵티마이저 정의\n",
        "optimizer = optim.Adam(params=model.parameters())"
      ]
    },
    {
      "cell_type": "markdown",
      "metadata": {
        "id": "MSvQjYDqsgp6"
      },
      "source": [
        "### 점검하기"
      ]
    },
    {
      "cell_type": "code",
      "execution_count": 18,
      "metadata": {
        "colab": {
          "base_uri": "https://localhost:8080/"
        },
        "id": "MyEHg4MYsgp6",
        "outputId": "2f3acda4-98a0-46b3-9da2-39ade6aa513b"
      },
      "outputs": [
        {
          "output_type": "stream",
          "name": "stdout",
          "text": [
            "tensor([[ 0.1193, -0.2286, -0.0363, -0.1760, -0.1962,  0.1967,  0.0556, -0.1874],\n",
            "        [ 0.1590, -0.2885, -0.1073, -0.1749, -0.2485,  0.2231,  0.0439, -0.0542],\n",
            "        [ 0.1685, -0.3034, -0.0893, -0.0843, -0.2586,  0.1709,  0.0824, -0.0795],\n",
            "        [ 0.1219, -0.2511, -0.0027, -0.1284, -0.2453,  0.1893,  0.0746, -0.1783],\n",
            "        [ 0.1012, -0.2406,  0.0012, -0.1775, -0.2337,  0.1976,  0.0860, -0.1846],\n",
            "        [ 0.1330, -0.2501, -0.0381, -0.1421, -0.2378,  0.1500,  0.1305, -0.1415]],\n",
            "       grad_fn=<ViewBackward0>)\n",
            "torch.Size([6, 8])\n"
          ]
        }
      ],
      "source": [
        "# 훈련 데이터로 로 예측해보기. 가중치는 전부 랜덤 초기화 된 상태\n",
        "output = model(X)\n",
        "\n",
        "print(output)\n",
        "print(output.shape)"
      ]
    },
    {
      "cell_type": "code",
      "execution_count": 19,
      "metadata": {
        "id": "kGGjzDZ9sgp6"
      },
      "outputs": [],
      "source": [
        "# 코드 시퀀스 y를 단어 시퀀스로 변경하는 함수\n",
        "decode = lambda y: [id2word.get(x) for x in y]"
      ]
    },
    {
      "cell_type": "code",
      "execution_count": 20,
      "metadata": {
        "id": "xOD9t87Ksgp6"
      },
      "outputs": [],
      "source": [
        "timestamp()"
      ]
    },
    {
      "cell_type": "markdown",
      "metadata": {
        "id": "SFa42SVBsgp6"
      },
      "source": [
        "# 3. 모델 훈련"
      ]
    },
    {
      "cell_type": "code",
      "execution_count": 21,
      "metadata": {
        "colab": {
          "base_uri": "https://localhost:8080/"
        },
        "id": "d3W1tbBHsgp6",
        "outputId": "6777ec88-b898-4954-b0b5-d42a4fb937f6"
      },
      "outputs": [
        {
          "output_type": "stream",
          "name": "stdout",
          "text": [
            "  Epoch   Loss              출력\n",
            "[001/200] 2.09541   Honest policy policy policy policy policy policy\n",
            "[021/200] 2.01664   Honest policy policy policy policy policy for\n",
            "[041/200] 1.91080   Honest policy policy policy policy policy for\n",
            "[061/200] 1.74144   Honest for policy policy policy for success\n",
            "[081/200] 1.52777   Honest for the policy policy for success\n",
            "[101/200] 1.28393   Honest is the best policy for success\n",
            "[121/200] 1.02743   Honest is the best policy for success\n",
            "[141/200] 0.79672   Honest is the best policy for success\n",
            "[161/200] 0.60862   Honest is the best policy for success\n",
            "[181/200] 0.46470   Honest is the best policy for success\n"
          ]
        }
      ],
      "source": [
        "EPOCHS = 200\n",
        "_INTERVAL = EPOCHS/10\n",
        "\n",
        "log_train_loss = []\n",
        "\n",
        "print('  Epoch   Loss              출력')\n",
        "    \n",
        "# 훈련 시작\n",
        "for i in range(EPOCHS):\n",
        "    optimizer.zero_grad()   # 기울기 초기화\n",
        "    \n",
        "    # 순방향 전파 및 손실값 계산\n",
        "    output = model(X)\n",
        "    loss = loss_function(output, Y.view(-1))  \n",
        "    log_train_loss.append(loss.item()) # 로그 저장\n",
        "    \n",
        "    # 역방향 전파 및 가중치 갱신\n",
        "    loss.backward()\n",
        "    optimizer.step()\n",
        "        \n",
        "    if i % _INTERVAL  == 0:\n",
        "        print(\"[{:03d}/{:3d}] {:1.5f} \".format(i+1, EPOCHS, loss), end='')\n",
        "        pred = output.softmax(-1).argmax(-1).tolist()\n",
        "        print(\" \", \" \".join([id2word[X[0, 0].item()]] + decode(pred)))  #[\"Honest\"]\n"
      ]
    },
    {
      "cell_type": "code",
      "execution_count": 22,
      "metadata": {
        "id": "MJooy0Ojsgp7"
      },
      "outputs": [],
      "source": [
        "timestamp()"
      ]
    },
    {
      "cell_type": "markdown",
      "metadata": {
        "id": "g8xAZPm6sgp7"
      },
      "source": [
        "### 훈련 과정의 에러(손실)을 그래프로 나타내기"
      ]
    },
    {
      "cell_type": "code",
      "execution_count": 23,
      "metadata": {
        "colab": {
          "base_uri": "https://localhost:8080/",
          "height": 508
        },
        "id": "lH2BLZeMsgp7",
        "outputId": "00812962-2ccf-449c-8a29-6f1e7c5cb794"
      },
      "outputs": [
        {
          "output_type": "execute_result",
          "data": {
            "text/plain": [
              "[<matplotlib.lines.Line2D at 0x7f0317351ae0>]"
            ]
          },
          "metadata": {},
          "execution_count": 23
        },
        {
          "output_type": "execute_result",
          "data": {
            "text/plain": [
              "Text(0.5, 1.0, 'Train loss')"
            ]
          },
          "metadata": {},
          "execution_count": 23
        },
        {
          "output_type": "execute_result",
          "data": {
            "text/plain": [
              "Text(0.5, 0, 'Epochs')"
            ]
          },
          "metadata": {},
          "execution_count": 23
        },
        {
          "output_type": "execute_result",
          "data": {
            "text/plain": [
              "Text(0, 0.5, 'Loss')"
            ]
          },
          "metadata": {},
          "execution_count": 23
        },
        {
          "output_type": "execute_result",
          "data": {
            "text/plain": [
              "<matplotlib.legend.Legend at 0x7f0317351d50>"
            ]
          },
          "metadata": {},
          "execution_count": 23
        },
        {
          "output_type": "display_data",
          "data": {
            "text/plain": [
              "<Figure size 640x480 with 1 Axes>"
            ],
            "image/png": "[encoded data removed]"
          },
          "metadata": {}
        }
      ],
      "source": [
        "markers = {'train': 'o'}\n",
        "x = np.arange(len(log_train_loss))\n",
        "plt.plot(x, log_train_loss, label='train loss')\n",
        "plt.title(\"Train loss\")\n",
        "plt.xlabel(\"Epochs\")\n",
        "plt.ylabel(\"Loss\")\n",
        "#plt.ylim(0, 2.5)\n",
        "plt.grid(True, ls=\":\", lw=0.5)\n",
        "plt.legend(loc='upper right')\n",
        "\n",
        "plt.show()"
      ]
    },
    {
      "cell_type": "code",
      "execution_count": 24,
      "metadata": {
        "id": "E7AuO_9Nsgp7"
      },
      "outputs": [],
      "source": [
        "timestamp()"
      ]
    },
    {
      "cell_type": "code",
      "execution_count": 25,
      "metadata": {
        "colab": {
          "base_uri": "https://localhost:8080/"
        },
        "id": "MLEtcTKjsgp7",
        "outputId": "c398bb42-b955-4fea-e069-14d9c241ebad"
      },
      "outputs": [
        {
          "output_type": "stream",
          "name": "stdout",
          "text": [
            "2023년 05월 30일 12시 46분 48초\n",
            "2023년 05월 30일 12시 47분 20초\n",
            "2023년 05월 30일 12시 47분 35초\n",
            "2023년 05월 30일 12시 47분 44초\n"
          ]
        }
      ],
      "source": [
        "for i in a:\n",
        "    now = time.strftime('%Y년 %#m월 %#d일 %#H시 %#M분 %#S초', i)\n",
        "    print(now)"
      ]
    },
    {
      "cell_type": "markdown",
      "metadata": {
        "id": "9Cvjmihdsgp7"
      },
      "source": [
        "### 이 부분은 강의 내용과 관계 없는 부분이지만 끝까지 실행시키세요(Timestamp와 Mac address hash code 인쇄)"
      ]
    },
    {
      "cell_type": "code",
      "execution_count": 26,
      "metadata": {
        "colab": {
          "base_uri": "https://localhost:8080/"
        },
        "id": "edv3q1Y5sgp8",
        "outputId": "183e26e3-8ce3-4e3f-fb0c-5c2f5b3cc727"
      },
      "outputs": [
        {
          "output_type": "stream",
          "name": "stdout",
          "text": [
            "54284998\n"
          ]
        }
      ],
      "source": [
        "from uuid import getnode as get_mac\n",
        "mac = get_mac()\n",
        "mac_addr=str(mac)\n",
        "import hashlib\n",
        "hash_object= hashlib.sha1(mac_addr.encode('utf-8'))\n",
        "signature = int(hash_object.hexdigest(), 16) % 10**8\n",
        "print(str(signature))"
      ]
    }
  ],
  "metadata": {
    "accelerator": "GPU",
    "colab": {
      "provenance": [],
      "include_colab_link": true
    },
    "kernelspec": {
      "display_name": "Python 3 (ipykernel)",
      "language": "python",
      "name": "python3"
    },
    "language_info": {
      "codemirror_mode": {
        "name": "ipython",
        "version": 3
      },
      "file_extension": ".py",
      "mimetype": "text/x-python",
      "name": "python",
      "nbconvert_exporter": "python",
      "pygments_lexer": "ipython3",
      "version": "3.9.7"
    }
  },
  "nbformat": 4,
  "nbformat_minor": 0
}
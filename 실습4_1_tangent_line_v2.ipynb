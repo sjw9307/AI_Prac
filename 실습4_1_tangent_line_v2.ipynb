{
  "cells": [
    {
      "cell_type": "markdown",
      "metadata": {
        "id": "view-in-github",
        "colab_type": "text"
      },
      "source": [
        "<a href=\"https://colab.research.google.com/github/sjw9307/AI_Practice/blob/mater/%E1%84%89%E1%85%B5%E1%86%AF%E1%84%89%E1%85%B3%E1%86%B84_1_tangent_line_v2.ipynb\" target=\"_parent\"><img src=\"https://colab.research.google.com/assets/colab-badge.svg\" alt=\"Open In Colab\"/></a>"
      ]
    },
    {
      "cell_type": "markdown",
      "metadata": {
        "id": "No_ie0IqABIp"
      },
      "source": [
        "> 이 문서의 폰트크기는 브라우저 인쇄시 인쇄 배율 80%로 최적화 되어 있음"
      ]
    },
    {
      "cell_type": "markdown",
      "metadata": {
        "id": "w4PKEaGYABIr"
      },
      "source": [
        "## 이 부분은 강의 내용과 관계 없지만 여기서부터 실행 시키세요.(Time stamp 프로그램)"
      ]
    },
    {
      "cell_type": "code",
      "execution_count": 6,
      "metadata": {
        "colab": {
          "base_uri": "https://localhost:8080/"
        },
        "id": "CxVaDI6aABIr",
        "outputId": "9d83fc5c-a611-4e28-e3c0-63160041df41"
      },
      "outputs": [
        {
          "output_type": "stream",
          "name": "stdout",
          "text": [
            "time.struct_time(tm_year=2023, tm_mon=4, tm_mday=14, tm_hour=9, tm_min=4, tm_sec=3, tm_wday=4, tm_yday=104, tm_isdst=0)\n"
          ]
        }
      ],
      "source": [
        "import time\n",
        "\n",
        "# Define the timestamp function\n",
        "timestamp_a=[]\n",
        "\n",
        "def timestamp():\n",
        "    now = time.time()\n",
        "    now = time.localtime(now)\n",
        "    timestamp_a.append(now)\n",
        "    #return 문에 반환값이 없어, now를 반환하여, 타임스탬프 출력이 가능하게 바꾸었습니다.\n",
        "    return now\n",
        "\n",
        "# Call the timestamp function and print the result\n",
        "print(timestamp())"
      ]
    },
    {
      "cell_type": "markdown",
      "metadata": {
        "id": "GTWCo0a8ABIs"
      },
      "source": [
        "# 미분 : 단변수 함수의 접선 그리기\n",
        "\n",
        "> 1. 단변수 함수의 수치미분 함수와 접선 방정식\n",
        "> 2. 예제 함수\n",
        "> 3. 예제 함수의 접선\n",
        "> 4. 함수의 접선 그리기\n",
        "\n",
        "- 교재 \"2.3절 미분\" 내용 참조"
      ]
    },
    {
      "cell_type": "code",
      "execution_count": 9,
      "metadata": {
        "id": "L6C_XTiOABIs"
      },
      "outputs": [],
      "source": [
        "# multi line 출력을 위한 셀 -- 필요없으면 아래 두 라인을 주석(#) 처리해서 기능 해제\n",
        "from IPython.core.interactiveshell import InteractiveShell\n",
        "InteractiveShell.ast_node_interactivity = \"all\""
      ]
    },
    {
      "cell_type": "code",
      "execution_count": 8,
      "metadata": {
        "id": "Kk2wzmxgABIt"
      },
      "outputs": [],
      "source": [
        "# 팝업 창을 띠우지 않고 주피터 노트북 안에 그림을 그리라는 명령\n",
        "%matplotlib inline  \n",
        "\n",
        "import sys, os\n",
        "import numpy as np\n",
        "import matplotlib.pyplot as plt"
      ]
    },
    {
      "cell_type": "markdown",
      "metadata": {
        "id": "qVYCnLHLABIt"
      },
      "source": [
        "# 1. 단변수 함수의 수치미분 함수와 접선 방정식\n",
        "\n",
        "## (1) 함수의 수치미분 값 산출 함수"
      ]
    },
    {
      "cell_type": "code",
      "execution_count": 25,
      "metadata": {
        "scrolled": true,
        "id": "WO5ie9_JABIt"
      },
      "outputs": [],
      "source": [
        "# 함수의 선언 - nummerical_gradient(f,x) \n",
        "# f와 x 두 변수를 param 으로 받는다. \n",
        "# 그리고, \"\"\" ~  \"\"\" 사이의 내용을 출력한다.\n",
        "# h의 값은 1e-4 > 0.0001로 고정이 되어있다.\n",
        "\n",
        "\n",
        "def numerical_gradient(f, x):\n",
        "    \"\"\"\n",
        "    :param f: function\n",
        "    :param x: x축 좌표\n",
        "    :return: f(x)의 기울기 값\n",
        "    \"\"\"\n",
        "    h = 1e-4  # 0.0001\n",
        "    return f(x + h) - f(x - h) / (2 * h)\n"
      ]
    },
    {
      "cell_type": "markdown",
      "metadata": {
        "id": "SrlKp09IABIt"
      },
      "source": [
        "## (2)  함수의 접선의 방정식"
      ]
    },
    {
      "cell_type": "code",
      "execution_count": 12,
      "metadata": {
        "id": "qlgqw7YJABIt"
      },
      "outputs": [],
      "source": [
        "# 함수의 선언 - tangent_line(f,x) \n",
        "# f와 x 두 변수를 param 으로 받는다. \n",
        "# 그리고, \"\"\" ~  \"\"\" 사이의 내용을 출력한다.\n",
        "# a의 값은 numerical_gradient(f,x) 함수의 결과값을 받는다.\n",
        "# b의 값은 f(x) -> f 라는 함수에 x 를 넣은 값 - a * x 를 받는다. \n",
        "\n",
        "\n",
        "def tangent_line(f, x):\n",
        "    \"\"\"\n",
        "    :param f: 함수\n",
        "    :param x: x축 좌표\n",
        "    :param analytic_gradiant : 분석미분식(아래 select 값이 1일 때 사용)\n",
        "    :param select : 0(수치미분), 1(분석미분)\n",
        "    :return: 곡선의 접선식 기울기, g(x)=ax + b\n",
        "    \"\"\"\n",
        "    a = numerical_gradient(f, x)\n",
        "    b = f(x) - a * x\n",
        "    return a, lambda x: a * x + b"
      ]
    },
    {
      "cell_type": "markdown",
      "metadata": {
        "id": "G5pIRxk2ABIu"
      },
      "source": [
        "# 2. 예제 함수\n",
        "\n",
        "- 예제 단변수 함수와  해당 분석적 미분값 산출 함수\n",
        "- $y = 0.5 (x-1)^2 - 5$\n",
        "- $dy/dx = x-1$"
      ]
    },
    {
      "cell_type": "code",
      "execution_count": 13,
      "metadata": {
        "id": "ojiN-cRNABIu"
      },
      "outputs": [],
      "source": [
        "def fn1(x):\n",
        "    return 0.5 * (x - 1)**2 - 5\n",
        "\n",
        "def fn1_analytic_gradient(x):\n",
        "    return x-1"
      ]
    },
    {
      "cell_type": "markdown",
      "metadata": {
        "id": "MzGS9sBjABIu"
      },
      "source": [
        "# 3. 예제  함수 그리기"
      ]
    },
    {
      "cell_type": "code",
      "execution_count": 14,
      "metadata": {
        "colab": {
          "base_uri": "https://localhost:8080/",
          "height": 448
        },
        "id": "eEYGbwZNABIu",
        "outputId": "3a57f199-6667-47f0-cf56-b6d559fbf979"
      },
      "outputs": [
        {
          "output_type": "execute_result",
          "data": {
            "text/plain": [
              "[<matplotlib.lines.Line2D at 0x7f1f503b0220>]"
            ]
          },
          "metadata": {},
          "execution_count": 14
        },
        {
          "output_type": "display_data",
          "data": {
            "text/plain": [
              "<Figure size 640x480 with 1 Axes>"
            ],
            "image/png": "[encoded data removed]"
          },
          "metadata": {}
        }
      ],
      "source": [
        "x = np.arange(-8.0, 10.0, 0.1)\n",
        "y = fn1(x)\n",
        "plt.plot(x, y, label='0.5(x-1)^2')\n",
        "plt.grid(color='#BDBDBD', linestyle='--', linewidth=0.2 )\n",
        "plt.show()"
      ]
    },
    {
      "cell_type": "code",
      "execution_count": null,
      "metadata": {
        "id": "3sV_oT_hABIu"
      },
      "outputs": [],
      "source": [
        "timestamp()"
      ]
    },
    {
      "cell_type": "markdown",
      "metadata": {
        "id": "QktgA4kUABIv"
      },
      "source": [
        "# 4. 예제 함수 상의 특정 좌표에 대한 접선\n",
        "\n",
        "## (1)  tangent_line() 함수 사용한 x가 5인 점에서 함수 fn1()의 접선 그리기"
      ]
    },
    {
      "cell_type": "code",
      "execution_count": 15,
      "metadata": {
        "scrolled": true,
        "colab": {
          "base_uri": "https://localhost:8080/",
          "height": 448
        },
        "id": "AI8JVPrpABIv",
        "outputId": "2c13e576-714d-4ca9-df60-a8e8e4414f05"
      },
      "outputs": [
        {
          "output_type": "execute_result",
          "data": {
            "text/plain": [
              "[<matplotlib.lines.Line2D at 0x7f1f50251370>]"
            ]
          },
          "metadata": {},
          "execution_count": 15
        },
        {
          "output_type": "execute_result",
          "data": {
            "text/plain": [
              "[<matplotlib.lines.Line2D at 0x7f1f50251670>]"
            ]
          },
          "metadata": {},
          "execution_count": 15
        },
        {
          "output_type": "display_data",
          "data": {
            "text/plain": [
              "<Figure size 640x480 with 1 Axes>"
            ],
            "image/png": "[encoded data removed]"
          },
          "metadata": {}
        }
      ],
      "source": [
        "tline_gradient, tline_eq = tangent_line(fn1, 5)\n",
        "\n",
        "x = np.arange(-8.0, 10.0, 0.1)\n",
        "y = tline_eq(x)\n",
        "plt.plot(x, y, linestyle='--',  linewidth=0.7, label=\"Tangent line at 5 \")\n",
        "plt.grid(color='#BDBDBD', linestyle='--', linewidth=0.2 )\n",
        "plt.plot(0, 0, 'o')  # 원점\n",
        "\n",
        "plt.show()"
      ]
    },
    {
      "cell_type": "markdown",
      "metadata": {
        "id": "t67unAqhABIv"
      },
      "source": [
        "####  x=5일 일 때, 수치비분과 미분함수 각각에 대한 접선의 기울기 값 비교"
      ]
    },
    {
      "cell_type": "code",
      "execution_count": 16,
      "metadata": {
        "scrolled": true,
        "colab": {
          "base_uri": "https://localhost:8080/"
        },
        "id": "0rzSj-4qABIv",
        "outputId": "3f041889-2b87-4fe7-a20f-8862ee59fc9a"
      },
      "outputs": [
        {
          "output_type": "stream",
          "name": "stdout",
          "text": [
            "3.9999999999906777\n",
            "4\n"
          ]
        }
      ],
      "source": [
        "print(tline_gradient)               # 접선의 기울기 (수치미분)\n",
        "print(fn1_analytic_gradient(5))    # 접선의 기울기 (미분함수 버전)"
      ]
    },
    {
      "cell_type": "code",
      "execution_count": 17,
      "metadata": {
        "colab": {
          "base_uri": "https://localhost:8080/"
        },
        "id": "vXuqQymyABIv",
        "outputId": "af2e5d5d-a6ad-4ebc-c30e-fd8bdc205a43"
      },
      "outputs": [
        {
          "output_type": "execute_result",
          "data": {
            "text/plain": [
              "time.struct_time(tm_year=2023, tm_mon=4, tm_mday=14, tm_hour=9, tm_min=5, tm_sec=51, tm_wday=4, tm_yday=104, tm_isdst=0)"
            ]
          },
          "metadata": {},
          "execution_count": 17
        }
      ],
      "source": [
        "timestamp()"
      ]
    },
    {
      "cell_type": "markdown",
      "metadata": {
        "id": "bOGifsZfABIw"
      },
      "source": [
        "## (2) 함수의 접선 그리기\n",
        "-  함수 x가 5일 때 fn1()의 접선을 함수와 함께 그리기"
      ]
    },
    {
      "cell_type": "code",
      "execution_count": 18,
      "metadata": {
        "scrolled": false,
        "colab": {
          "base_uri": "https://localhost:8080/",
          "height": 1000
        },
        "id": "C9NdVCk5ABIw",
        "outputId": "9a0b9f02-9694-46ba-9096-cb3624989f90"
      },
      "outputs": [
        {
          "output_type": "execute_result",
          "data": {
            "text/plain": [
              "[<matplotlib.lines.Line2D at 0x7f1f501eb970>]"
            ]
          },
          "metadata": {},
          "execution_count": 18
        },
        {
          "output_type": "execute_result",
          "data": {
            "text/plain": [
              "[<matplotlib.lines.Line2D at 0x7f1f501ebc10>]"
            ]
          },
          "metadata": {},
          "execution_count": 18
        },
        {
          "output_type": "execute_result",
          "data": {
            "text/plain": [
              "[<matplotlib.lines.Line2D at 0x7f1f501ebe80>]"
            ]
          },
          "metadata": {},
          "execution_count": 18
        },
        {
          "output_type": "execute_result",
          "data": {
            "text/plain": [
              "[<matplotlib.lines.Line2D at 0x7f1f501f71c0>]"
            ]
          },
          "metadata": {},
          "execution_count": 18
        },
        {
          "output_type": "execute_result",
          "data": {
            "text/plain": [
              "Text(0.5, 1.0, '<NUMERICAL GRADIANT version>')"
            ]
          },
          "metadata": {},
          "execution_count": 18
        },
        {
          "output_type": "execute_result",
          "data": {
            "text/plain": [
              "Text(0.5, 0, 'x')"
            ]
          },
          "metadata": {},
          "execution_count": 18
        },
        {
          "output_type": "execute_result",
          "data": {
            "text/plain": [
              "Text(0, 0.5, 'f(x)')"
            ]
          },
          "metadata": {},
          "execution_count": 18
        },
        {
          "output_type": "execute_result",
          "data": {
            "text/plain": [
              "([<matplotlib.axis.XTick at 0x7f1f52689370>,\n",
              "  <matplotlib.axis.XTick at 0x7f1f52689ca0>,\n",
              "  <matplotlib.axis.XTick at 0x7f1f50611b20>,\n",
              "  <matplotlib.axis.XTick at 0x7f1f501f7c40>,\n",
              "  <matplotlib.axis.XTick at 0x7f1f5018a460>,\n",
              "  <matplotlib.axis.XTick at 0x7f1f5018af10>,\n",
              "  <matplotlib.axis.XTick at 0x7f1f5018ea00>,\n",
              "  <matplotlib.axis.XTick at 0x7f1f501934f0>,\n",
              "  <matplotlib.axis.XTick at 0x7f1f5018e2b0>,\n",
              "  <matplotlib.axis.XTick at 0x7f1f50193fd0>,\n",
              "  <matplotlib.axis.XTick at 0x7f1f5019aac0>,\n",
              "  <matplotlib.axis.XTick at 0x7f1f501a25b0>,\n",
              "  <matplotlib.axis.XTick at 0x7f1f501a2f70>,\n",
              "  <matplotlib.axis.XTick at 0x7f1f501a28b0>,\n",
              "  <matplotlib.axis.XTick at 0x7f1f501a59d0>,\n",
              "  <matplotlib.axis.XTick at 0x7f1f501af4c0>,\n",
              "  <matplotlib.axis.XTick at 0x7f1f501aff70>,\n",
              "  <matplotlib.axis.XTick at 0x7f1f501b4a60>,\n",
              "  <matplotlib.axis.XTick at 0x7f1f501a55b0>,\n",
              "  <matplotlib.axis.XTick at 0x7f1f501bc3a0>],\n",
              " [Text(-10, 0, '−10'),\n",
              "  Text(-9, 0, '−9'),\n",
              "  Text(-8, 0, '−8'),\n",
              "  Text(-7, 0, '−7'),\n",
              "  Text(-6, 0, '−6'),\n",
              "  Text(-5, 0, '−5'),\n",
              "  Text(-4, 0, '−4'),\n",
              "  Text(-3, 0, '−3'),\n",
              "  Text(-2, 0, '−2'),\n",
              "  Text(-1, 0, '−1'),\n",
              "  Text(0, 0, '0'),\n",
              "  Text(1, 0, '1'),\n",
              "  Text(2, 0, '2'),\n",
              "  Text(3, 0, '3'),\n",
              "  Text(4, 0, '4'),\n",
              "  Text(5, 0, '5'),\n",
              "  Text(6, 0, '6'),\n",
              "  Text(7, 0, '7'),\n",
              "  Text(8, 0, '8'),\n",
              "  Text(9, 0, '9')])"
            ]
          },
          "metadata": {},
          "execution_count": 18
        },
        {
          "output_type": "execute_result",
          "data": {
            "text/plain": [
              "[<matplotlib.lines.Line2D at 0x7f1f501c6250>]"
            ]
          },
          "metadata": {},
          "execution_count": 18
        },
        {
          "output_type": "execute_result",
          "data": {
            "text/plain": [
              "[<matplotlib.lines.Line2D at 0x7f1f501b4f10>]"
            ]
          },
          "metadata": {},
          "execution_count": 18
        },
        {
          "output_type": "execute_result",
          "data": {
            "text/plain": [
              "<matplotlib.legend.Legend at 0x7f1f501af7f0>"
            ]
          },
          "metadata": {},
          "execution_count": 18
        },
        {
          "output_type": "execute_result",
          "data": {
            "text/plain": [
              "(-20.0, 40.0)"
            ]
          },
          "metadata": {},
          "execution_count": 18
        },
        {
          "output_type": "display_data",
          "data": {
            "text/plain": [
              "<Figure size 640x480 with 1 Axes>"
            ],
            "image/png": "[encoded data removed]"
          },
          "metadata": {}
        }
      ],
      "source": [
        "# 함수 그리기\n",
        "x = np.arange(-8.0, 10.0, 0.1)\n",
        "y = fn1(x)\n",
        "plt.plot(x, y, label='0.5(x-1)^2')\n",
        "\n",
        "# 접선 그리기\n",
        "tline_gradient, tline_eq = tangent_line(fn1, 5)\n",
        "y = tline_eq(x)\n",
        "plt.plot(x, y, linestyle='--',  linewidth=0.7, label=\"Tangent line at 5 \")\n",
        "plt.plot(5, tline_eq(5), 'o')\n",
        "plt.plot(0, 0, 'o')\n",
        "\n",
        "# ====== 화면에 표시\n",
        "plt.title(\"<NUMERICAL GRADIANT version>\")\n",
        "plt.xlabel(\"x\")\n",
        "plt.ylabel(\"f(x)\")\n",
        "plt.xticks(np.arange(-10, 10))\n",
        "plt.grid(color='#BDBDBD', linestyle='--', linewidth=0.2 )\n",
        "plt.plot([-10, 10], [0, 0], '#BDBDBD')  # x-축 라인\n",
        "plt.plot([0, 0], [-30, 40], '#BDBDBD')  # y-축 라인\n",
        "\n",
        "plt.legend(loc='upper center')\n",
        "plt.ylim(-20, 40)  # range of y axis\n",
        "plt.show()\n"
      ]
    },
    {
      "cell_type": "code",
      "execution_count": 19,
      "metadata": {
        "colab": {
          "base_uri": "https://localhost:8080/"
        },
        "id": "4KYzRn6WABIw",
        "outputId": "68fb8434-4398-4bbd-de1e-49b52e9a7892"
      },
      "outputs": [
        {
          "output_type": "execute_result",
          "data": {
            "text/plain": [
              "time.struct_time(tm_year=2023, tm_mon=4, tm_mday=14, tm_hour=9, tm_min=6, tm_sec=14, tm_wday=4, tm_yday=104, tm_isdst=0)"
            ]
          },
          "metadata": {},
          "execution_count": 19
        }
      ],
      "source": [
        "timestamp()"
      ]
    },
    {
      "cell_type": "markdown",
      "metadata": {
        "id": "vqaUKe6mABIw"
      },
      "source": [
        "### 이 부분은 강의 내용과 관계 없는 부분이지만 끝까지 실행시키세요(Timestamp와 Mac address hash code 인쇄)"
      ]
    },
    {
      "cell_type": "code",
      "execution_count": 20,
      "metadata": {
        "colab": {
          "base_uri": "https://localhost:8080/"
        },
        "id": "mUSdeXfxABIw",
        "outputId": "c4a8b355-70dc-4482-e2df-f3c53ca81dcc"
      },
      "outputs": [
        {
          "output_type": "stream",
          "name": "stdout",
          "text": [
            "2023년 04월 14일 09시 04분 03초\n",
            "2023년 04월 14일 09시 05분 51초\n",
            "2023년 04월 14일 09시 06분 14초\n"
          ]
        }
      ],
      "source": [
        "for i in timestamp_a:\n",
        "    now = time.strftime('%Y년 %#m월 %#d일 %#H시 %#M분 %#S초', i)\n",
        "    print(now)"
      ]
    },
    {
      "cell_type": "code",
      "execution_count": 21,
      "metadata": {
        "colab": {
          "base_uri": "https://localhost:8080/"
        },
        "id": "0CEN9lC_ABIx",
        "outputId": "4e3fe6ba-8a96-4583-92e7-2bdb18413d88"
      },
      "outputs": [
        {
          "output_type": "stream",
          "name": "stdout",
          "text": [
            "54284998\n"
          ]
        }
      ],
      "source": [
        "from uuid import getnode as get_mac\n",
        "mac = get_mac()\n",
        "mac_addr=str(mac)\n",
        "import hashlib\n",
        "hash_object= hashlib.sha1(mac_addr.encode('utf-8'))\n",
        "signature = int(hash_object.hexdigest(), 16) % 10**8\n",
        "print(str(signature))"
      ]
    }
  ],
  "metadata": {
    "accelerator": "GPU",
    "colab": {
      "provenance": [],
      "include_colab_link": true
    },
    "kernelspec": {
      "display_name": "Python 3 (ipykernel)",
      "language": "python",
      "name": "python3"
    },
    "language_info": {
      "codemirror_mode": {
        "name": "ipython",
        "version": 3
      },
      "file_extension": ".py",
      "mimetype": "text/x-python",
      "name": "python",
      "nbconvert_exporter": "python",
      "pygments_lexer": "ipython3",
      "version": "3.9.7"
    }
  },
  "nbformat": 4,
  "nbformat_minor": 0
}
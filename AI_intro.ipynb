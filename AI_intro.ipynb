{
  "nbformat": 4,
  "nbformat_minor": 0,
  "metadata": {
    "colab": {
      "provenance": [],
      "authorship_tag": "ABX9TyPbap4w/pWJBFmDfKMnDZnU",
      "include_colab_link": true
    },
    "kernelspec": {
      "name": "python3",
      "display_name": "Python 3"
    },
    "language_info": {
      "name": "python"
    }
  },
  "cells": [
    {
      "cell_type": "markdown",
      "metadata": {
        "id": "view-in-github",
        "colab_type": "text"
      },
      "source": [
        "<a href=\"https://colab.research.google.com/github/sjw9307/AI_Practice/blob/mater/AI_intro.ipynb\" target=\"_parent\"><img src=\"https://colab.research.google.com/assets/colab-badge.svg\" alt=\"Open In Colab\"/></a>"
      ]
    },
    {
      "cell_type": "code",
      "source": [
        "# %% [markdown]\n",
        "## 이 부분은 강의 내용과 관계 없지만 여기서부터 실행 시키세요.(Time stamp 프로그램)\n",
        "\n",
        "# %% [code]\n",
        "import time\n",
        "\n",
        "a=[]\n",
        "\n",
        "def timestamp():\n",
        "    now = time.time()\n",
        "    now = time.localtime(now)\n",
        "    a.append(now)\n",
        "    return\n",
        "  \n",
        "\n",
        "timestamp()\n",
        "\n",
        "print(a)"
      ],
      "metadata": {
        "colab": {
          "base_uri": "https://localhost:8080/"
        },
        "id": "DnfTTyGx7Dub",
        "outputId": "40a5a619-c49e-4d7b-9bc6-bfbedc692ab7"
      },
      "execution_count": null,
      "outputs": [
        {
          "output_type": "stream",
          "name": "stdout",
          "text": [
            "[time.struct_time(tm_year=2023, tm_mon=4, tm_mday=5, tm_hour=5, tm_min=53, tm_sec=33, tm_wday=2, tm_yday=95, tm_isdst=0)]\n"
          ]
        }
      ]
    },
    {
      "cell_type": "code",
      "source": [
        "# %% [markdown]\n",
        "#### 정수의 합\n",
        "# %% [code]\n",
        "print(1 + 2)"
      ],
      "metadata": {
        "colab": {
          "base_uri": "https://localhost:8080/"
        },
        "id": "AoMVRjqD_OI2",
        "outputId": "e81f24f6-a091-48b0-81a8-1ce5adff612d"
      },
      "execution_count": null,
      "outputs": [
        {
          "output_type": "stream",
          "name": "stdout",
          "text": [
            "3\n"
          ]
        }
      ]
    },
    {
      "cell_type": "code",
      "source": [
        "# %% [markdown]\n",
        "#### 실수의 곱\n",
        "\n",
        "# %% [code]\n",
        "print(2.3 * 9.2)"
      ],
      "metadata": {
        "colab": {
          "base_uri": "https://localhost:8080/"
        },
        "id": "vyqzasWRMEf7",
        "outputId": "2f9452cf-f9f8-4cdd-8229-98f80b3a3be7"
      },
      "execution_count": null,
      "outputs": [
        {
          "output_type": "stream",
          "name": "stdout",
          "text": [
            "21.159999999999997\n"
          ]
        }
      ]
    },
    {
      "cell_type": "code",
      "source": [
        "# %% [markdown]\n",
        "#### 글자와 문자열\n",
        "\n",
        "# %% [code]\n",
        "print('A')\n",
        "print('ABC')"
      ],
      "metadata": {
        "colab": {
          "base_uri": "https://localhost:8080/"
        },
        "id": "FWTnksAsMMtq",
        "outputId": "7271eb94-fefd-49c9-93ff-738c05b08b8f"
      },
      "execution_count": null,
      "outputs": [
        {
          "output_type": "stream",
          "name": "stdout",
          "text": [
            "A\n",
            "ABC\n"
          ]
        }
      ]
    },
    {
      "cell_type": "code",
      "source": [
        "# %% [code]\n",
        "x = 3\n",
        "y = 2\n",
        "z = x + y\n",
        "print(x)\n",
        "print(y)\n",
        "print(z)"
      ],
      "metadata": {
        "colab": {
          "base_uri": "https://localhost:8080/"
        },
        "id": "acmBTF8qMVwh",
        "outputId": "aa7dfaa9-69ed-47c4-9789-84d39cbd3545"
      },
      "execution_count": null,
      "outputs": [
        {
          "output_type": "stream",
          "name": "stdout",
          "text": [
            "3\n",
            "2\n",
            "5\n"
          ]
        }
      ]
    },
    {
      "cell_type": "code",
      "source": [
        "# %% [markdown]\n",
        "### 3. 조건문\n",
        "\n",
        "x = 4\n",
        "if x < 3:\n",
        "    y = 1\n",
        "else:\n",
        "    y = 2\n",
        "z = y + 10\n",
        "\n",
        "print(z)"
      ],
      "metadata": {
        "colab": {
          "base_uri": "https://localhost:8080/"
        },
        "id": "08Qr8lOLNMkG",
        "outputId": "256b9f23-b9ee-41ed-f216-9222a4e0de06"
      },
      "execution_count": null,
      "outputs": [
        {
          "output_type": "stream",
          "name": "stdout",
          "text": [
            "12\n"
          ]
        }
      ]
    },
    {
      "cell_type": "code",
      "source": [
        "# %% [markdown]\n",
        "### 4. 반복문\n",
        "\n",
        "# %% [code]\n",
        "y = 100\n",
        "x = [1, 2, 3, 4, 5]\n",
        "for  i  in x :\n",
        "    y = y + i\n",
        "    \n",
        "print(y)"
      ],
      "metadata": {
        "colab": {
          "base_uri": "https://localhost:8080/"
        },
        "id": "dlpeZFB8NPhg",
        "outputId": "908aa3c0-d103-4905-dd9c-880e4086036b"
      },
      "execution_count": null,
      "outputs": [
        {
          "output_type": "stream",
          "name": "stdout",
          "text": [
            "115\n"
          ]
        }
      ]
    },
    {
      "cell_type": "code",
      "source": [
        "# %% [markdown]\n",
        "# 파트 2 : 넘파이(Numpy)와 Matplotlib \n",
        "# %% [markdown]\n",
        "## 1. 넘파이(Numpy) \n",
        "# %% [markdown]\n",
        "### 1.1 넘파이 배열 생성\n",
        "# %% [code]\n",
        "import numpy as np\n",
        "# %% [markdown]\n",
        "### 1차원 배열 생성\n",
        "\n",
        "# %% [code]\n",
        "x = np.array([0, 10, 20, 30, 40, 50])\n",
        "x\n",
        "\n"
      ],
      "metadata": {
        "colab": {
          "base_uri": "https://localhost:8080/"
        },
        "id": "ghKY7rpJNxyI",
        "outputId": "74007ece-680d-4ca3-ee3c-41f0f1e5bb6c"
      },
      "execution_count": null,
      "outputs": [
        {
          "output_type": "execute_result",
          "data": {
            "text/plain": [
              "array([ 0, 10, 20, 30, 40, 50])"
            ]
          },
          "metadata": {},
          "execution_count": 21
        }
      ]
    },
    {
      "cell_type": "code",
      "source": [
        "# %% [markdown]\n",
        "### 2차원 배열 생성\n",
        "\n",
        "# %% [code]\n",
        "y = np.array([[0, 1, 2], \n",
        "              [10, 11, 12]])\n",
        "y"
      ],
      "metadata": {
        "colab": {
          "base_uri": "https://localhost:8080/"
        },
        "id": "8DsZPLPSOObP",
        "outputId": "43b6abd4-4d05-4a7f-9ecf-1894f5a87f0a"
      },
      "execution_count": null,
      "outputs": [
        {
          "output_type": "execute_result",
          "data": {
            "text/plain": [
              "array([[ 0,  1,  2],\n",
              "       [10, 11, 12]])"
            ]
          },
          "metadata": {},
          "execution_count": 22
        }
      ]
    },
    {
      "cell_type": "code",
      "source": [
        "# %% [code]\n",
        "# 기존 배열의 형상의 초기화 배열 생성\n",
        "z = np.zeros_like(y)\n",
        "print(z)"
      ],
      "metadata": {
        "colab": {
          "base_uri": "https://localhost:8080/"
        },
        "id": "9dvLyQnjOU6D",
        "outputId": "72dfcac2-c4f5-4de8-d972-05da7b1830be"
      },
      "execution_count": null,
      "outputs": [
        {
          "output_type": "stream",
          "name": "stdout",
          "text": [
            "[[0 0 0]\n",
            " [0 0 0]]\n"
          ]
        }
      ]
    },
    {
      "cell_type": "code",
      "source": [
        "# %% [markdown]\n",
        "### 1.2 배열간 산술 연산\n",
        "# %% [code]\n",
        "X = np.array([[1, 2],\n",
        "              [3, 4]])\n",
        "Y = np.array([[3, 0],\n",
        "              [0, 6]])\n",
        "print(X + Y)\n",
        "\n",
        "print(X * Y)\n"
      ],
      "metadata": {
        "colab": {
          "base_uri": "https://localhost:8080/"
        },
        "id": "oD2ltr9LOYLF",
        "outputId": "2e6429be-f332-4413-9814-207079a66852"
      },
      "execution_count": null,
      "outputs": [
        {
          "output_type": "stream",
          "name": "stdout",
          "text": [
            "[[ 4  2]\n",
            " [ 3 10]]\n",
            "[[ 3  0]\n",
            " [ 0 24]]\n"
          ]
        }
      ]
    },
    {
      "cell_type": "code",
      "source": [
        "# %% [markdown]\n",
        "## 1.3 벡터 내적\n",
        "\n",
        "# %% [code]\n",
        "X = np.array([1, 2, 3])\n",
        "Y = np.array([1, 2, 3])\n",
        "np.dot(X, Y)"
      ],
      "metadata": {
        "colab": {
          "base_uri": "https://localhost:8080/"
        },
        "id": "Mzn9w4IaOtXT",
        "outputId": "0b81175d-8f41-444d-fbfc-ab294dafc903"
      },
      "execution_count": null,
      "outputs": [
        {
          "output_type": "execute_result",
          "data": {
            "text/plain": [
              "14"
            ]
          },
          "metadata": {},
          "execution_count": 29
        }
      ]
    },
    {
      "cell_type": "code",
      "source": [
        "# %% [markdown]\n",
        "## 1.4 행렬곱\n",
        "\n",
        "# %% [code]\n",
        "# 행렬곱 사례 2 : 3x2 행렬 * 2x3 행렬\n",
        "X = np.array([[11, 21, 31],\n",
        "              [42, 5, 6]])\n",
        "Y = np.array([[1, 2],\n",
        "              [2, 31],\n",
        "              [13, 14]])\n",
        "\n",
        "np.dot(X, Y)"
      ],
      "metadata": {
        "colab": {
          "base_uri": "https://localhost:8080/"
        },
        "id": "h9GnnurXOzeO",
        "outputId": "3e4f002d-934a-4fcd-b1be-5a4530bcd8fa"
      },
      "execution_count": null,
      "outputs": [
        {
          "output_type": "execute_result",
          "data": {
            "text/plain": [
              "array([[ 456, 1107],\n",
              "       [ 130,  323]])"
            ]
          },
          "metadata": {},
          "execution_count": 32
        }
      ]
    },
    {
      "cell_type": "code",
      "source": [
        "# %% [code]\n",
        "# matplot library\n",
        "import matplotlib.pyplot as plt\n",
        "\n",
        "# %% [markdown]\n",
        "### 2.1 그래프 1\n",
        "\n",
        "# %% [code]\n",
        "# 그래프 1\n",
        "plt.figure(figsize=(8,4))\n",
        "x = [10, 20, 30, 40]\n",
        "y = [1, 4, 9, 16]\n",
        "plt.plot(x, y, \"b--\")\n",
        "plt.plot(x, y, \"r^\")\n",
        "plt.grid(True, ls=\"--\", lw=1)\n",
        "plt.show()"
      ],
      "metadata": {
        "colab": {
          "base_uri": "https://localhost:8080/",
          "height": 368
        },
        "id": "4wjeruzUPDY7",
        "outputId": "f4656073-3270-44b4-903d-27e65af2b870"
      },
      "execution_count": null,
      "outputs": [
        {
          "output_type": "display_data",
          "data": {
            "text/plain": [
              "<Figure size 800x400 with 1 Axes>"
            ],
            "image/png": "[encoded data removed]"
          },
          "metadata": {}
        }
      ]
    },
    {
      "cell_type": "code",
      "source": [
        "# %% [markdown]\n",
        "### 2.2 그래프 2\n",
        "\n",
        "# %% [code]\n",
        "plt.figure(figsize=(8,4))\n",
        "x = [10, 20, 30, 40]\n",
        "y = [1, 4, 9, 16]\n",
        "plt.plot(x, y, c=\"b\", lw=2, ls=\":\", ms=15, marker=\"o\", mew=5, mec=\"g\", mfc=\"r\")\n",
        "plt.grid(True, ls=\"--\", lw=1)\n",
        "plt.show()"
      ],
      "metadata": {
        "colab": {
          "base_uri": "https://localhost:8080/",
          "height": 368
        },
        "id": "JVVCUkA7PIla",
        "outputId": "a2160b00-e237-43fb-83b0-f35e050c808f"
      },
      "execution_count": null,
      "outputs": [
        {
          "output_type": "display_data",
          "data": {
            "text/plain": [
              "<Figure size 800x400 with 1 Axes>"
            ],
            "image/png": "[encoded data removed]"
          },
          "metadata": {}
        }
      ]
    },
    {
      "cell_type": "code",
      "source": [
        "# %% [markdown]\n",
        "### 2.3 활성화 함수 그리기\n",
        "\n",
        "# %% [code]\n",
        "def sigmoid(x):\n",
        "    return 1 / (1 + np.exp(-x))\n",
        "\n",
        "def tanh(x):\n",
        "    return (np.exp(x)- np.exp(-x)) / (np.exp(x) + np.exp(-x))\n",
        "\n",
        "def relu(x):\n",
        "    return np.maximum(0, x)\n",
        "\n",
        "x = np.arange(-4.1, 4.1, 0.1)\n",
        "\n",
        "plt.plot(x, sigmoid(x), '-', label=\"Logistic sigmoid\")\n",
        "plt.plot(x, tanh(x), '--', label=\"Hyperbolic tangent\")\n",
        "plt.plot(x, relu(x), ':', label=\"ReLU\")\n",
        "\n",
        "plt.plot(0, sigmoid(0), 0, tanh(0), \"ko\")  # x = 0일 때의 함수값 표시\n",
        "\n",
        "plt.title(\"Activation functions\")\n",
        "\n",
        "plt.ylim(-1.5, 2.1)\n",
        "\n",
        "plt.grid(color='#BDBDBD', linestyle='-', linewidth=0.5)\n",
        "plt.legend()\n",
        "\n",
        "plt.show()"
      ],
      "metadata": {
        "colab": {
          "base_uri": "https://localhost:8080/",
          "height": 452
        },
        "id": "kSLPjGdWPWQX",
        "outputId": "ced88021-9c7f-41e1-fc79-a2c58721eb20"
      },
      "execution_count": null,
      "outputs": [
        {
          "output_type": "display_data",
          "data": {
            "text/plain": [
              "<Figure size 640x480 with 1 Axes>"
            ],
            "image/png": "[encoded data removed]"
          },
          "metadata": {}
        }
      ]
    },
    {
      "cell_type": "code",
      "source": [
        "# %% [markdown]\n",
        "import numpy as np\n",
        "# %% [markdown]\n",
        "# 파트 3 : 신경망 구현 및 추론\n",
        "\n",
        "# %% [code]\n",
        "def sigmoid(x):\n",
        "    return 1 / (1 + np.exp(-x))\n",
        "\n",
        "def softmax(x):\n",
        "    max = np.max(x)\n",
        "    exp_x = np.exp(x - max)  # overflow를 방지\n",
        "    sum_exp_x = np.sum(exp_x)\n",
        "    y = exp_x / sum_exp_x\n",
        "    return y\n",
        "\n",
        "# %% [code]\n",
        "## 1. Setting the weight of 2-layer neural network\n",
        "W1 = np.array([[0.4, 0.2, 0.3], [0.1, 0.2, 0.1]])\n",
        "b1 = np.array([0.1, 0.2, 0.2])\n",
        "\n",
        "W2 = np.array([[0.1, 0.4], [0.2, 0.3], [0.4, 0.6]])\n",
        "b2 = np.array([0.2, 0.1])\n",
        "\n",
        "## 2. Perform inference for an input patten\n",
        "x = np.array([2.2, 1.3]) # 입력 샘플\n",
        "\n",
        "# 계층 1 연산\n",
        "v1 = np.dot(x, W1) + b1\n",
        "h1 = sigmoid(v1)\n",
        "print(\"v1:\", v1), print(\"h1:\", h1)\n",
        "\n",
        "# 계층 2 연산\n",
        "v2 = np.dot(h1, W2) + b2\n",
        "h2 = sigmoid(v2)\n",
        "print(\"v2:\", v2), print(\"h2:\", h2)\n",
        "\n",
        "# 2.3 소프트맥스함수 적용\n",
        "y = softmax(h2)\n",
        "\n",
        "print(\"입력 : \", x)\n",
        "print(\"출력 : \", y)"
      ],
      "metadata": {
        "colab": {
          "base_uri": "https://localhost:8080/"
        },
        "id": "H3GHnYz0Pa-M",
        "outputId": "6533984b-6f66-4135-c070-37a907540a65"
      },
      "execution_count": null,
      "outputs": [
        {
          "output_type": "stream",
          "name": "stdout",
          "text": [
            "v1: [1.11 0.9  0.99]\n",
            "h1: [0.75212911 0.7109495  0.72908792]\n",
            "v2: [0.70903798 1.05158925]\n",
            "h2: [0.67018855 0.74107996]\n",
            "입력 :  [2.2 1.3]\n",
            "출력 :  [0.48228457 0.51771543]\n"
          ]
        }
      ]
    },
    {
      "cell_type": "code",
      "source": [
        "# %% [code]\n",
        "import time\n",
        "\n",
        "a=[]\n",
        "\n",
        "def timestamp():\n",
        "    now = time.time()\n",
        "    now = time.localtime(now)\n",
        "    a.append(now)\n",
        "    return\n",
        "\n",
        "timestamp()\n",
        "\n",
        "# %% [markdown]\n",
        "### 이 부분은 강의 내용과 관계 없는 부분이지만 끝까지 실행시키세요(Timestamp와 Mac address hash code 인쇄)\n",
        "\n",
        "# %% [code]\n",
        "for i in a:\n",
        "    now = time.strftime('%Y년 %#m월 %#d일 %#H시 %#M분 %#S초', i)\n",
        "    print(now)\n",
        "\n",
        "# %% [code]\n",
        "from uuid import getnode as get_mac\n",
        "mac = get_mac()\n",
        "mac_addr=str(mac)\n",
        "import hashlib\n",
        "hash_object= hashlib.sha1(mac_addr.encode('utf-8'))\n",
        "signature = int(hash_object.hexdigest(), 16) % 10**8\n",
        "print(str(signature))"
      ],
      "metadata": {
        "colab": {
          "base_uri": "https://localhost:8080/"
        },
        "id": "my3cHFa2S3JD",
        "outputId": "c02bf5b9-bdba-4147-ca5d-90237d0ab85b"
      },
      "execution_count": 9,
      "outputs": [
        {
          "output_type": "stream",
          "name": "stdout",
          "text": [
            "2023년 04월 06일 02시 33분 22초\n",
            "54284998\n"
          ]
        }
      ]
    }
  ]
}